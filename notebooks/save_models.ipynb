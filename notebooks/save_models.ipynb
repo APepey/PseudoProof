{
 "cells": [
  {
   "cell_type": "code",
   "execution_count": 34,
   "metadata": {},
   "outputs": [],
   "source": [
    "from pseudoproof.ml_logic.model import gbc_model\n",
    "# from pseudoproof.ml_logic.preproc import *\n",
    "from pseudoproof.ml_logic.preproc import clean_data,scale_data,digit_freq\n",
    "import pandas as pd\n",
    "import joblib\n",
    "\n",
    "from sklearn.ensemble import RandomForestClassifier, GradientBoostingClassifier\n",
    "from sklearn.naive_bayes import GaussianNB\n",
    "from sklearn.neighbors import KNeighborsClassifier\n",
    "from sklearn.svm import SVC\n",
    "\n",
    "from keras import Model, Sequential, optimizers\n",
    "from keras.layers import Dense\n",
    "from keras.callbacks import EarlyStopping\n",
    "\n",
    "contents = pd.read_csv(\"/Users/anaispepey/code/APepey/PseudoProof/raw_data/datasets/complete_dataset_true_fake.csv\")\n"
   ]
  },
  {
   "cell_type": "markdown",
   "metadata": {},
   "source": [
    "## working workflow:\n",
    "### to do: retrain models on final training dataset\n",
    "### add same structure for RNN\n"
   ]
  },
  {
   "cell_type": "markdown",
   "metadata": {},
   "source": [
    "## Data"
   ]
  },
  {
   "cell_type": "code",
   "execution_count": 9,
   "metadata": {},
   "outputs": [
    {
     "name": "stdout",
     "output_type": "stream",
     "text": [
      "✅ data cleaned of NAs and duplicates\n",
      "✅ data scaled\n",
      "✅ digits frequency computed \n",
      "final shape: (374, 20)\n"
     ]
    }
   ],
   "source": [
    "df = clean_data(contents)\n",
    "\n",
    "X = df.drop(columns='y')\n",
    "y = df[\"y\"]\n",
    "\n",
    "X_scaled = scale_data(X)\n",
    "X_final = digit_freq(X_scaled)\n",
    "\n",
    "# split\n",
    "\n",
    "# X_train, X_test, y_train, y_test = train_test_split(X_scaled, y, test_split=0.3)\n",
    "\n",
    "X_train, X_test = X_final[:-1], X_final[-1:]\n",
    "y_train, y_test = y[:-1], y[-1:]\n"
   ]
  },
  {
   "cell_type": "code",
   "execution_count": 10,
   "metadata": {},
   "outputs": [
    {
     "data": {
      "text/html": [
       "<div>\n",
       "<style scoped>\n",
       "    .dataframe tbody tr th:only-of-type {\n",
       "        vertical-align: middle;\n",
       "    }\n",
       "\n",
       "    .dataframe tbody tr th {\n",
       "        vertical-align: top;\n",
       "    }\n",
       "\n",
       "    .dataframe thead th {\n",
       "        text-align: right;\n",
       "    }\n",
       "</style>\n",
       "<table border=\"1\" class=\"dataframe\">\n",
       "  <thead>\n",
       "    <tr style=\"text-align: right;\">\n",
       "      <th></th>\n",
       "      <th>f_0</th>\n",
       "      <th>f_1</th>\n",
       "      <th>f_2</th>\n",
       "      <th>f_3</th>\n",
       "      <th>f_4</th>\n",
       "      <th>f_5</th>\n",
       "      <th>f_6</th>\n",
       "      <th>f_7</th>\n",
       "      <th>f_8</th>\n",
       "      <th>f_9</th>\n",
       "      <th>s_0</th>\n",
       "      <th>s_1</th>\n",
       "      <th>s_2</th>\n",
       "      <th>s_3</th>\n",
       "      <th>s_4</th>\n",
       "      <th>s_5</th>\n",
       "      <th>s_6</th>\n",
       "      <th>s_7</th>\n",
       "      <th>s_8</th>\n",
       "      <th>s_9</th>\n",
       "    </tr>\n",
       "  </thead>\n",
       "  <tbody>\n",
       "    <tr>\n",
       "      <th>311</th>\n",
       "      <td>0.05</td>\n",
       "      <td>0.0</td>\n",
       "      <td>0.0</td>\n",
       "      <td>0.15</td>\n",
       "      <td>0.0</td>\n",
       "      <td>0.05</td>\n",
       "      <td>0.0</td>\n",
       "      <td>0.0</td>\n",
       "      <td>0.0</td>\n",
       "      <td>0.05</td>\n",
       "      <td>0.0</td>\n",
       "      <td>0.0</td>\n",
       "      <td>0.0</td>\n",
       "      <td>0.05</td>\n",
       "      <td>0.05</td>\n",
       "      <td>0.05</td>\n",
       "      <td>0.0</td>\n",
       "      <td>0.0</td>\n",
       "      <td>0.05</td>\n",
       "      <td>0.1</td>\n",
       "    </tr>\n",
       "  </tbody>\n",
       "</table>\n",
       "</div>"
      ],
      "text/plain": [
       "      f_0  f_1  f_2   f_3  f_4   f_5  f_6  f_7  f_8   f_9  s_0  s_1  s_2  \\\n",
       "311  0.05  0.0  0.0  0.15  0.0  0.05  0.0  0.0  0.0  0.05  0.0  0.0  0.0   \n",
       "\n",
       "      s_3   s_4   s_5  s_6  s_7   s_8  s_9  \n",
       "311  0.05  0.05  0.05  0.0  0.0  0.05  0.1  "
      ]
     },
     "execution_count": 10,
     "metadata": {},
     "output_type": "execute_result"
    }
   ],
   "source": [
    "X_train.sample()\n"
   ]
  },
  {
   "cell_type": "markdown",
   "metadata": {},
   "source": [
    "## Models list"
   ]
  },
  {
   "cell_type": "markdown",
   "metadata": {},
   "source": [
    "# First 5 Models"
   ]
  },
  {
   "cell_type": "code",
   "execution_count": 12,
   "metadata": {},
   "outputs": [],
   "source": [
    "#parameters to be updated when gridsearch is complete\n",
    "knn_model = KNeighborsClassifier(n_neighbors=5)\n",
    "nb_model = GaussianNB()\n",
    "gbc_model = GradientBoostingClassifier(n_estimators=100, learning_rate=0.1)\n",
    "svm_model = SVC(kernel=\"rbf\", C=1, random_state=42)\n",
    "rf_model = RandomForestClassifier(n_estimators=100)\n"
   ]
  },
  {
   "cell_type": "code",
   "execution_count": 13,
   "metadata": {},
   "outputs": [],
   "source": [
    "knn_model = knn_model.fit(X_train, y_train)\n",
    "nb_model = nb_model.fit(X_train, y_train)\n",
    "gbc_model = gbc_model.fit(X_train, y_train)\n",
    "svm_model = svm_model.fit(X_train, y_train)\n",
    "rf_model = rf_model.fit(X_train, y_train)\n"
   ]
  },
  {
   "cell_type": "code",
   "execution_count": 15,
   "metadata": {},
   "outputs": [],
   "source": [
    "\n",
    "MODELS = {\n",
    "    knn_model: \"knn\",\n",
    "    nb_model: \"naive_bayes\",\n",
    "    gbc_model: \"gradient_boosting\",\n",
    "    rf_model: \"random_forest\",\n",
    "    svm_model: \"svm\",\n",
    "}\n"
   ]
  },
  {
   "cell_type": "code",
   "execution_count": 16,
   "metadata": {},
   "outputs": [],
   "source": [
    "key_value_pairs = MODELS.items()\n",
    "\n",
    "for key, value in key_value_pairs:\n",
    "    model_path = f\"/Users/anaispepey/code/APepey/PseudoProof/trained_models/{value}.pkl\"\n",
    "    joblib.dump(key, filename=model_path)\n"
   ]
  },
  {
   "cell_type": "markdown",
   "metadata": {},
   "source": [
    "#last step: drag all <model>.pkl files to pseudoproof Google Bucket\n"
   ]
  },
  {
   "cell_type": "markdown",
   "metadata": {},
   "source": [
    "# RNN model - to do"
   ]
  },
  {
   "cell_type": "markdown",
   "metadata": {},
   "source": [
    "#train RNN model\n",
    "#save it in trained_models\n",
    "#drag it to google bucket 'pseudoproof'\n",
    "#load it into local machine"
   ]
  },
  {
   "cell_type": "code",
   "execution_count": 38,
   "metadata": {},
   "outputs": [
    {
     "ename": "ValueError",
     "evalue": "in user code:\n\n    File \"/Users/anaispepey/.pyenv/versions/3.10.6/envs/PseudoProof/lib/python3.10/site-packages/keras/engine/training.py\", line 1160, in train_function  *\n        return step_function(self, iterator)\n    File \"/Users/anaispepey/.pyenv/versions/3.10.6/envs/PseudoProof/lib/python3.10/site-packages/keras/engine/training.py\", line 1146, in step_function  **\n        outputs = model.distribute_strategy.run(run_step, args=(data,))\n    File \"/Users/anaispepey/.pyenv/versions/3.10.6/envs/PseudoProof/lib/python3.10/site-packages/keras/engine/training.py\", line 1135, in run_step  **\n        outputs = model.train_step(data)\n    File \"/Users/anaispepey/.pyenv/versions/3.10.6/envs/PseudoProof/lib/python3.10/site-packages/keras/engine/training.py\", line 993, in train_step\n        y_pred = self(x, training=True)\n    File \"/Users/anaispepey/.pyenv/versions/3.10.6/envs/PseudoProof/lib/python3.10/site-packages/keras/utils/traceback_utils.py\", line 70, in error_handler\n        raise e.with_traceback(filtered_tb) from None\n    File \"/Users/anaispepey/.pyenv/versions/3.10.6/envs/PseudoProof/lib/python3.10/site-packages/keras/engine/input_spec.py\", line 295, in assert_input_compatibility\n        raise ValueError(\n\n    ValueError: Input 0 of layer \"sequential_13\" is incompatible with the layer: expected shape=(None, 373, 20), found shape=(None, 20)\n",
     "output_type": "error",
     "traceback": [
      "\u001b[0;31m---------------------------------------------------------------------------\u001b[0m",
      "\u001b[0;31mValueError\u001b[0m                                Traceback (most recent call last)",
      "\u001b[1;32m/Users/anaispepey/code/APepey/PseudoProof/notebooks/save_models.ipynb Cell 15\u001b[0m line \u001b[0;36m2\n\u001b[1;32m     <a href='vscode-notebook-cell:/Users/anaispepey/code/APepey/PseudoProof/notebooks/save_models.ipynb#X34sZmlsZQ%3D%3D?line=22'>23</a>\u001b[0m batch_size\u001b[39m=\u001b[39m\u001b[39m256\u001b[39m\n\u001b[1;32m     <a href='vscode-notebook-cell:/Users/anaispepey/code/APepey/PseudoProof/notebooks/save_models.ipynb#X34sZmlsZQ%3D%3D?line=24'>25</a>\u001b[0m es \u001b[39m=\u001b[39m EarlyStopping(\n\u001b[1;32m     <a href='vscode-notebook-cell:/Users/anaispepey/code/APepey/PseudoProof/notebooks/save_models.ipynb#X34sZmlsZQ%3D%3D?line=25'>26</a>\u001b[0m         monitor\u001b[39m=\u001b[39m\u001b[39m\"\u001b[39m\u001b[39mval_loss\u001b[39m\u001b[39m\"\u001b[39m, patience\u001b[39m=\u001b[39mpatience, restore_best_weights\u001b[39m=\u001b[39m\u001b[39mTrue\u001b[39;00m, verbose\u001b[39m=\u001b[39m\u001b[39m1\u001b[39m\n\u001b[1;32m     <a href='vscode-notebook-cell:/Users/anaispepey/code/APepey/PseudoProof/notebooks/save_models.ipynb#X34sZmlsZQ%3D%3D?line=26'>27</a>\u001b[0m     )\n\u001b[0;32m---> <a href='vscode-notebook-cell:/Users/anaispepey/code/APepey/PseudoProof/notebooks/save_models.ipynb#X34sZmlsZQ%3D%3D?line=28'>29</a>\u001b[0m history \u001b[39m=\u001b[39m rnn_model\u001b[39m.\u001b[39;49mfit(\n\u001b[1;32m     <a href='vscode-notebook-cell:/Users/anaispepey/code/APepey/PseudoProof/notebooks/save_models.ipynb#X34sZmlsZQ%3D%3D?line=29'>30</a>\u001b[0m         X_train,\n\u001b[1;32m     <a href='vscode-notebook-cell:/Users/anaispepey/code/APepey/PseudoProof/notebooks/save_models.ipynb#X34sZmlsZQ%3D%3D?line=30'>31</a>\u001b[0m         y_train,\n\u001b[1;32m     <a href='vscode-notebook-cell:/Users/anaispepey/code/APepey/PseudoProof/notebooks/save_models.ipynb#X34sZmlsZQ%3D%3D?line=31'>32</a>\u001b[0m         \u001b[39m# validation_data=validation_data,\u001b[39;49;00m\n\u001b[1;32m     <a href='vscode-notebook-cell:/Users/anaispepey/code/APepey/PseudoProof/notebooks/save_models.ipynb#X34sZmlsZQ%3D%3D?line=32'>33</a>\u001b[0m         validation_split\u001b[39m=\u001b[39;49mvalidation_split,\n\u001b[1;32m     <a href='vscode-notebook-cell:/Users/anaispepey/code/APepey/PseudoProof/notebooks/save_models.ipynb#X34sZmlsZQ%3D%3D?line=33'>34</a>\u001b[0m         batch_size\u001b[39m=\u001b[39;49mbatch_size,\n\u001b[1;32m     <a href='vscode-notebook-cell:/Users/anaispepey/code/APepey/PseudoProof/notebooks/save_models.ipynb#X34sZmlsZQ%3D%3D?line=34'>35</a>\u001b[0m         epochs \u001b[39m=\u001b[39;49m epochs,\n\u001b[1;32m     <a href='vscode-notebook-cell:/Users/anaispepey/code/APepey/PseudoProof/notebooks/save_models.ipynb#X34sZmlsZQ%3D%3D?line=35'>36</a>\u001b[0m         callbacks\u001b[39m=\u001b[39;49m[es],\n\u001b[1;32m     <a href='vscode-notebook-cell:/Users/anaispepey/code/APepey/PseudoProof/notebooks/save_models.ipynb#X34sZmlsZQ%3D%3D?line=36'>37</a>\u001b[0m         verbose\u001b[39m=\u001b[39;49m\u001b[39m0\u001b[39;49m,\n\u001b[1;32m     <a href='vscode-notebook-cell:/Users/anaispepey/code/APepey/PseudoProof/notebooks/save_models.ipynb#X34sZmlsZQ%3D%3D?line=37'>38</a>\u001b[0m     )\n\u001b[1;32m     <a href='vscode-notebook-cell:/Users/anaispepey/code/APepey/PseudoProof/notebooks/save_models.ipynb#X34sZmlsZQ%3D%3D?line=39'>40</a>\u001b[0m \u001b[39mprint\u001b[39m(history)\n",
      "File \u001b[0;32m~/.pyenv/versions/3.10.6/envs/PseudoProof/lib/python3.10/site-packages/keras/utils/traceback_utils.py:70\u001b[0m, in \u001b[0;36mfilter_traceback.<locals>.error_handler\u001b[0;34m(*args, **kwargs)\u001b[0m\n\u001b[1;32m     67\u001b[0m     filtered_tb \u001b[39m=\u001b[39m _process_traceback_frames(e\u001b[39m.\u001b[39m__traceback__)\n\u001b[1;32m     68\u001b[0m     \u001b[39m# To get the full stack trace, call:\u001b[39;00m\n\u001b[1;32m     69\u001b[0m     \u001b[39m# `tf.debugging.disable_traceback_filtering()`\u001b[39;00m\n\u001b[0;32m---> 70\u001b[0m     \u001b[39mraise\u001b[39;00m e\u001b[39m.\u001b[39mwith_traceback(filtered_tb) \u001b[39mfrom\u001b[39;00m \u001b[39mNone\u001b[39;00m\n\u001b[1;32m     71\u001b[0m \u001b[39mfinally\u001b[39;00m:\n\u001b[1;32m     72\u001b[0m     \u001b[39mdel\u001b[39;00m filtered_tb\n",
      "File \u001b[0;32m/var/folders/mj/xfxv0sw95r12wywpt283fpcc0000gn/T/__autograph_generated_filevvahjr_o.py:15\u001b[0m, in \u001b[0;36mouter_factory.<locals>.inner_factory.<locals>.tf__train_function\u001b[0;34m(iterator)\u001b[0m\n\u001b[1;32m     13\u001b[0m \u001b[39mtry\u001b[39;00m:\n\u001b[1;32m     14\u001b[0m     do_return \u001b[39m=\u001b[39m \u001b[39mTrue\u001b[39;00m\n\u001b[0;32m---> 15\u001b[0m     retval_ \u001b[39m=\u001b[39m ag__\u001b[39m.\u001b[39mconverted_call(ag__\u001b[39m.\u001b[39mld(step_function), (ag__\u001b[39m.\u001b[39mld(\u001b[39mself\u001b[39m), ag__\u001b[39m.\u001b[39mld(iterator)), \u001b[39mNone\u001b[39;00m, fscope)\n\u001b[1;32m     16\u001b[0m \u001b[39mexcept\u001b[39;00m:\n\u001b[1;32m     17\u001b[0m     do_return \u001b[39m=\u001b[39m \u001b[39mFalse\u001b[39;00m\n",
      "\u001b[0;31mValueError\u001b[0m: in user code:\n\n    File \"/Users/anaispepey/.pyenv/versions/3.10.6/envs/PseudoProof/lib/python3.10/site-packages/keras/engine/training.py\", line 1160, in train_function  *\n        return step_function(self, iterator)\n    File \"/Users/anaispepey/.pyenv/versions/3.10.6/envs/PseudoProof/lib/python3.10/site-packages/keras/engine/training.py\", line 1146, in step_function  **\n        outputs = model.distribute_strategy.run(run_step, args=(data,))\n    File \"/Users/anaispepey/.pyenv/versions/3.10.6/envs/PseudoProof/lib/python3.10/site-packages/keras/engine/training.py\", line 1135, in run_step  **\n        outputs = model.train_step(data)\n    File \"/Users/anaispepey/.pyenv/versions/3.10.6/envs/PseudoProof/lib/python3.10/site-packages/keras/engine/training.py\", line 993, in train_step\n        y_pred = self(x, training=True)\n    File \"/Users/anaispepey/.pyenv/versions/3.10.6/envs/PseudoProof/lib/python3.10/site-packages/keras/utils/traceback_utils.py\", line 70, in error_handler\n        raise e.with_traceback(filtered_tb) from None\n    File \"/Users/anaispepey/.pyenv/versions/3.10.6/envs/PseudoProof/lib/python3.10/site-packages/keras/engine/input_spec.py\", line 295, in assert_input_compatibility\n        raise ValueError(\n\n    ValueError: Input 0 of layer \"sequential_13\" is incompatible with the layer: expected shape=(None, 373, 20), found shape=(None, 20)\n"
     ]
    }
   ],
   "source": [
    "#itinialize\n",
    "input_shape = X_train.shape\n",
    "\n",
    "rnn_model = Sequential()\n",
    "rnn_model.add(Dense(10, input_shape=input_shape, activation=\"relu\"))\n",
    "rnn_model.add(Dense(20, activation=\"relu\"))\n",
    "rnn_model.add(Dense(15, activation=\"relu\"))\n",
    "rnn_model.add(Dense(8, activation=\"relu\"))\n",
    "rnn_model.add(Dense(1, activation=\"sigmoid\"))\n",
    "\n",
    "#compile\n",
    "learning_rate = 0.001\n",
    "\n",
    "optimizer = optimizers.Adam(learning_rate=learning_rate)\n",
    "rnn_model.compile(\n",
    "        loss=\"binary_crossentropy\", optimizer=optimizer, metrics=[\"accuracy\"]\n",
    "    )\n",
    "\n",
    "#train\n",
    "patience=2\n",
    "validation_split=0.3\n",
    "epochs=100\n",
    "batch_size=256\n",
    "\n",
    "es = EarlyStopping(\n",
    "        monitor=\"val_loss\", patience=patience, restore_best_weights=True, verbose=1\n",
    "    )\n",
    "\n",
    "history = rnn_model.fit(\n",
    "        X_train,\n",
    "        y_train,\n",
    "        # validation_data=validation_data,\n",
    "        validation_split=validation_split,\n",
    "        batch_size=batch_size,\n",
    "        epochs = epochs,\n",
    "        callbacks=[es],\n",
    "        verbose=0,\n",
    "    )\n",
    "\n",
    "print(history)\n"
   ]
  },
  {
   "cell_type": "code",
   "execution_count": null,
   "metadata": {},
   "outputs": [
    {
     "ename": "NameError",
     "evalue": "name 'rnn_model' is not defined",
     "output_type": "error",
     "traceback": [
      "\u001b[0;31m---------------------------------------------------------------------------\u001b[0m",
      "\u001b[0;31mNameError\u001b[0m                                 Traceback (most recent call last)",
      "\u001b[1;32m/Users/anaispepey/code/APepey/PseudoProof/notebooks/save_models.ipynb Cell 16\u001b[0m line \u001b[0;36m1\n\u001b[0;32m----> <a href='vscode-notebook-cell:/Users/anaispepey/code/APepey/PseudoProof/notebooks/save_models.ipynb#X50sZmlsZQ%3D%3D?line=0'>1</a>\u001b[0m MODELS[rnn_model] \u001b[39m=\u001b[39m \u001b[39m\"\u001b[39m\u001b[39mrnn\u001b[39m\u001b[39m\"\u001b[39m\n",
      "\u001b[0;31mNameError\u001b[0m: name 'rnn_model' is not defined"
     ]
    }
   ],
   "source": [
    "MODELS[rnn_model] = \"rnn\"\n"
   ]
  },
  {
   "cell_type": "code",
   "execution_count": null,
   "metadata": {},
   "outputs": [],
   "source": []
  }
 ],
 "metadata": {
  "kernelspec": {
   "display_name": "PseudoProof",
   "language": "python",
   "name": "python3"
  },
  "language_info": {
   "codemirror_mode": {
    "name": "ipython",
    "version": 3
   },
   "file_extension": ".py",
   "mimetype": "text/x-python",
   "name": "python",
   "nbconvert_exporter": "python",
   "pygments_lexer": "ipython3",
   "version": "3.10.6"
  }
 },
 "nbformat": 4,
 "nbformat_minor": 2
}
