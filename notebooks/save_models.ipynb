{
 "cells": [
  {
   "cell_type": "code",
   "execution_count": 1,
   "metadata": {},
   "outputs": [
    {
     "name": "stderr",
     "output_type": "stream",
     "text": [
      "2023-12-01 17:23:00.951163: I tensorflow/core/platform/cpu_feature_guard.cc:193] This TensorFlow binary is optimized with oneAPI Deep Neural Network Library (oneDNN) to use the following CPU instructions in performance-critical operations:  AVX2 FMA\n",
      "To enable them in other operations, rebuild TensorFlow with the appropriate compiler flags.\n"
     ]
    }
   ],
   "source": [
    "from pseudoproof.ml_logic.model import gbc_model\n",
    "# from pseudoproof.ml_logic.preproc import *\n",
    "from pseudoproof.ml_logic.preproc import clean_data,scale_data,digit_freq\n",
    "import pandas as pd\n",
    "import joblib\n",
    "\n",
    "from sklearn.ensemble import RandomForestClassifier, GradientBoostingClassifier\n",
    "from sklearn.naive_bayes import GaussianNB\n",
    "from sklearn.neighbors import KNeighborsClassifier\n",
    "from sklearn.svm import SVC\n",
    "\n",
    "contents = pd.read_csv(\"/Users/anaispepey/code/APepey/PseudoProof/raw_data/datasets/complete_dataset_true_fake.csv\")\n"
   ]
  },
  {
   "cell_type": "markdown",
   "metadata": {},
   "source": [
    "## working workflow:\n",
    "### to do: retrain models on final training dataset\n",
    "### add same structure for RNN\n"
   ]
  },
  {
   "cell_type": "markdown",
   "metadata": {},
   "source": [
    "# First 5 Models"
   ]
  },
  {
   "cell_type": "code",
   "execution_count": 2,
   "metadata": {},
   "outputs": [],
   "source": [
    "#parameters to be updated when gridsearch is complete\n",
    "knn_model = KNeighborsClassifier(n_neighbors=5)\n",
    "nb_model = GaussianNB()\n",
    "gbc_model = GradientBoostingClassifier(n_estimators=100, learning_rate=0.1)\n",
    "svm_model = SVC(kernel=\"rbf\", C=1, random_state=42)\n",
    "rf_model = RandomForestClassifier(n_estimators=100)\n",
    "\n",
    "MODELS = {\n",
    "    knn_model: \"knn\",\n",
    "    nb_model: \"naive_bayes\",\n",
    "    gbc_model: \"gradient_boosting\",\n",
    "    rf_model: \"random_forest\",\n",
    "    svm_model: \"svm\",\n",
    "}\n"
   ]
  },
  {
   "cell_type": "code",
   "execution_count": 3,
   "metadata": {},
   "outputs": [
    {
     "name": "stdout",
     "output_type": "stream",
     "text": [
      "✅ data cleaned of NAs and duplicates\n",
      "✅ data scaled\n",
      "✅ digits frequency computed \n",
      "final shape: (374, 20)\n"
     ]
    }
   ],
   "source": [
    "df = clean_data(contents)\n",
    "\n",
    "X = df.drop(columns='y')\n",
    "y = df[\"y\"]\n",
    "\n",
    "X_scaled = scale_data(X)\n",
    "X_final = digit_freq(X_scaled)\n",
    "\n",
    "# split\n",
    "\n",
    "# X_train, X_test, y_train, y_test = train_test_split(X_scaled, y, test_split=0.3)\n",
    "\n",
    "X_train, X_test = X_final[:-1], X_final[-1:]\n",
    "y_train, y_test = y[:-1], y[-1:]\n"
   ]
  },
  {
   "cell_type": "code",
   "execution_count": 4,
   "metadata": {},
   "outputs": [
    {
     "data": {
      "text/html": [
       "<div>\n",
       "<style scoped>\n",
       "    .dataframe tbody tr th:only-of-type {\n",
       "        vertical-align: middle;\n",
       "    }\n",
       "\n",
       "    .dataframe tbody tr th {\n",
       "        vertical-align: top;\n",
       "    }\n",
       "\n",
       "    .dataframe thead th {\n",
       "        text-align: right;\n",
       "    }\n",
       "</style>\n",
       "<table border=\"1\" class=\"dataframe\">\n",
       "  <thead>\n",
       "    <tr style=\"text-align: right;\">\n",
       "      <th></th>\n",
       "      <th>f_0</th>\n",
       "      <th>f_1</th>\n",
       "      <th>f_2</th>\n",
       "      <th>f_3</th>\n",
       "      <th>f_4</th>\n",
       "      <th>f_5</th>\n",
       "      <th>f_6</th>\n",
       "      <th>f_7</th>\n",
       "      <th>f_8</th>\n",
       "      <th>f_9</th>\n",
       "      <th>s_0</th>\n",
       "      <th>s_1</th>\n",
       "      <th>s_2</th>\n",
       "      <th>s_3</th>\n",
       "      <th>s_4</th>\n",
       "      <th>s_5</th>\n",
       "      <th>s_6</th>\n",
       "      <th>s_7</th>\n",
       "      <th>s_8</th>\n",
       "      <th>s_9</th>\n",
       "    </tr>\n",
       "  </thead>\n",
       "  <tbody>\n",
       "    <tr>\n",
       "      <th>254</th>\n",
       "      <td>0.0</td>\n",
       "      <td>0.0</td>\n",
       "      <td>0.05</td>\n",
       "      <td>0.1</td>\n",
       "      <td>0.0</td>\n",
       "      <td>0.05</td>\n",
       "      <td>0.0</td>\n",
       "      <td>0.1</td>\n",
       "      <td>0.0</td>\n",
       "      <td>0.0</td>\n",
       "      <td>0.1</td>\n",
       "      <td>0.0</td>\n",
       "      <td>0.05</td>\n",
       "      <td>0.0</td>\n",
       "      <td>0.0</td>\n",
       "      <td>0.05</td>\n",
       "      <td>0.0</td>\n",
       "      <td>0.1</td>\n",
       "      <td>0.0</td>\n",
       "      <td>0.0</td>\n",
       "    </tr>\n",
       "  </tbody>\n",
       "</table>\n",
       "</div>"
      ],
      "text/plain": [
       "     f_0  f_1   f_2  f_3  f_4   f_5  f_6  f_7  f_8  f_9  s_0  s_1   s_2  s_3  \\\n",
       "254  0.0  0.0  0.05  0.1  0.0  0.05  0.0  0.1  0.0  0.0  0.1  0.0  0.05  0.0   \n",
       "\n",
       "     s_4   s_5  s_6  s_7  s_8  s_9  \n",
       "254  0.0  0.05  0.0  0.1  0.0  0.0  "
      ]
     },
     "execution_count": 4,
     "metadata": {},
     "output_type": "execute_result"
    }
   ],
   "source": [
    "X_train.sample()\n"
   ]
  },
  {
   "cell_type": "code",
   "execution_count": 5,
   "metadata": {},
   "outputs": [],
   "source": [
    "knn_model = knn_model.fit(X_train, y_train)\n",
    "nb_model = nb_model.fit(X_train, y_train)\n",
    "gbc_model = gbc_model.fit(X_train, y_train)\n",
    "svm_model = svm_model.fit(X_train, y_train)\n",
    "rf_model = rf_model.fit(X_train, y_train)\n"
   ]
  },
  {
   "cell_type": "code",
   "execution_count": 6,
   "metadata": {},
   "outputs": [],
   "source": [
    "key_value_pairs = MODELS.items()\n",
    "\n",
    "for key, value in key_value_pairs:\n",
    "    model_path = f\"/Users/anaispepey/code/APepey/PseudoProof/trained_models/{value}.pkl\"\n",
    "    joblib.dump(key, filename=model_path)\n"
   ]
  },
  {
   "cell_type": "markdown",
   "metadata": {},
   "source": [
    "#last step: drag all <model>.pkl files to pseudoproof Google Bucket\n"
   ]
  },
  {
   "cell_type": "markdown",
   "metadata": {},
   "source": [
    "# RNN model - to do"
   ]
  },
  {
   "cell_type": "markdown",
   "metadata": {},
   "source": [
    "#train RNN model\n",
    "#save it in trained_models\n",
    "#drag it to google bucket 'pseudoproof'\n",
    "#load it into local machine"
   ]
  },
  {
   "cell_type": "code",
   "execution_count": null,
   "metadata": {},
   "outputs": [],
   "source": []
  }
 ],
 "metadata": {
  "kernelspec": {
   "display_name": "PseudoProof",
   "language": "python",
   "name": "python3"
  },
  "language_info": {
   "codemirror_mode": {
    "name": "ipython",
    "version": 3
   },
   "file_extension": ".py",
   "mimetype": "text/x-python",
   "name": "python",
   "nbconvert_exporter": "python",
   "pygments_lexer": "ipython3",
   "version": "3.10.6"
  }
 },
 "nbformat": 4,
 "nbformat_minor": 2
}
