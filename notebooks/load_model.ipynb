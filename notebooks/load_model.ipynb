{
 "cells": [
  {
   "cell_type": "code",
   "execution_count": 89,
   "metadata": {},
   "outputs": [],
   "source": [
    "from google.cloud import storage\n",
    "import os\n",
    "import joblib\n",
    "\n",
    "from pseudoproof.params import LOCAL_MODEL_PATH\n",
    "\n",
    "client = storage.Client()\n"
   ]
  },
  {
   "cell_type": "code",
   "execution_count": 90,
   "metadata": {},
   "outputs": [],
   "source": [
    "BUCKET_NAME='pseudoproof'\n",
    "bucket = client.bucket(BUCKET_NAME)\n"
   ]
  },
  {
   "cell_type": "code",
   "execution_count": 91,
   "metadata": {},
   "outputs": [
    {
     "data": {
      "text/plain": [
       "['gradient_boosting.pkl',\n",
       " 'knn.pkl',\n",
       " 'naive_bayes.pkl',\n",
       " 'random_forest.pkl',\n",
       " 'svm.pkl']"
      ]
     },
     "execution_count": 91,
     "metadata": {},
     "output_type": "execute_result"
    }
   ],
   "source": [
    "all_files=bucket.list_blobs()\n",
    "pickle_names = [each.name for each in all_files if '.pkl' in each.name]\n",
    "pickle_names\n"
   ]
  },
  {
   "cell_type": "code",
   "execution_count": 92,
   "metadata": {},
   "outputs": [],
   "source": [
    "for pickle_file_name in pickle_names:\n",
    "    local_blob = bucket.blob(pickle_file_name)\n",
    "    local_blob.download_to_filename(os.path.join(LOCAL_MODEL_PATH,f'{pickle_file_name}'))\n"
   ]
  },
  {
   "cell_type": "code",
   "execution_count": 93,
   "metadata": {},
   "outputs": [],
   "source": [
    "model_dict={}\n",
    "\n",
    "for pickle_file_name in pickle_names:\n",
    "    #my_list.append(joblib.load(os.path.join(LOCAL_MODEL_PATH,f'{pickle_file_name}')))\n",
    "    model_dict[pickle_file_name] = joblib.load(os.path.join(LOCAL_MODEL_PATH,f'{pickle_file_name}'))\n"
   ]
  },
  {
   "cell_type": "code",
   "execution_count": 94,
   "metadata": {},
   "outputs": [
    {
     "data": {
      "text/plain": [
       "{'gradient_boosting.pkl': GradientBoostingClassifier(),\n",
       " 'knn.pkl': KNeighborsClassifier(),\n",
       " 'naive_bayes.pkl': GaussianNB(),\n",
       " 'random_forest.pkl': RandomForestClassifier(),\n",
       " 'svm.pkl': SVC(C=1, random_state=42)}"
      ]
     },
     "execution_count": 94,
     "metadata": {},
     "output_type": "execute_result"
    }
   ],
   "source": [
    "my_list\n"
   ]
  },
  {
   "cell_type": "code",
   "execution_count": null,
   "metadata": {},
   "outputs": [],
   "source": []
  }
 ],
 "metadata": {
  "kernelspec": {
   "display_name": "PseudoProof",
   "language": "python",
   "name": "python3"
  },
  "language_info": {
   "codemirror_mode": {
    "name": "ipython",
    "version": 3
   },
   "file_extension": ".py",
   "mimetype": "text/x-python",
   "name": "python",
   "nbconvert_exporter": "python",
   "pygments_lexer": "ipython3",
   "version": "3.10.6"
  }
 },
 "nbformat": 4,
 "nbformat_minor": 2
}
